{
  "cells": [
    {
      "cell_type": "markdown",
      "metadata": {
        "id": "view-in-github",
        "colab_type": "text"
      },
      "source": [
        "<a href=\"https://colab.research.google.com/github/uervitonsantos/PROJETO_LINGUAGEM_RSTUDIO/blob/main/Atividade_em_RStudio.ipynb\" target=\"_parent\"><img src=\"https://colab.research.google.com/assets/colab-badge.svg\" alt=\"Open In Colab\"/></a>"
      ]
    },
    {
      "cell_type": "markdown",
      "metadata": {
        "id": "bSEChUbhxMuX"
      },
      "source": [
        "###Configuração das bibliotecas do RStudio"
      ]
    },
    {
      "cell_type": "code",
      "source": [
        "%load_ext rpy2.ipython"
      ],
      "metadata": {
        "id": "i9kV434L6ITp"
      },
      "execution_count": 1,
      "outputs": []
    },
    {
      "cell_type": "code",
      "source": [
        "%%R\n",
        "system('sudo apt install libcairo2-dev')\n",
        "install.packages('hrbrthemes')\n",
        "library(hrbrthemes)\n"
      ],
      "metadata": {
        "id": "oMxhTcIyCPxF"
      },
      "execution_count": null,
      "outputs": []
    },
    {
      "cell_type": "code",
      "execution_count": null,
      "metadata": {
        "id": "AnhAFRkWcfOa"
      },
      "outputs": [],
      "source": [
        "%%R\n",
        "install.packages(\"tidyverse\")\n",
        "install.packages(\"janitor\")\n",
        "install.packages(\"gridExtra\")\n",
        "library(gridExtra)\n",
        "library(janitor)\n",
        "library(dplyr)\n",
        "library(tidyverse)\n",
        "library (janitor)\n",
        "library(ggplot2)\n",
        "\n"
      ]
    },
    {
      "cell_type": "markdown",
      "metadata": {
        "id": "aVTuZpPKxYzj"
      },
      "source": [
        "#### Carregamento do Dataset de covid 19 que pode ser baixado atravez do link: https://www.kaggle.com/sudalairajkumar/novel-corona-virus-2019-dataset#covid_19_data.csv"
      ]
    },
    {
      "cell_type": "code",
      "execution_count": null,
      "metadata": {
        "id": "VprCYOF7d9Zh"
      },
      "outputs": [],
      "source": [
        "%%R\n",
        "covid <- read_csv(\"/content/drive/MyDrive/Colab Notebooks/DateSet/covid_19_data.csv\",\n",
        "                  col_types = cols(SNo = col_skip(), ObservationDate = col_date(format = \"%m/%d/%Y\")))\n",
        "head(covid)"
      ]
    },
    {
      "cell_type": "code",
      "source": [
        "%%R\n",
        "names(covid)"
      ],
      "metadata": {
        "colab": {
          "base_uri": "https://localhost:8080/"
        },
        "id": "eX-4heKX1O7U",
        "outputId": "7ef25bb8-6d2c-499d-f893-ffa96953a5bc"
      },
      "execution_count": 64,
      "outputs": [
        {
          "output_type": "stream",
          "name": "stdout",
          "text": [
            "[1] \"ObservationDate\" \"Province/State\"  \"Country/Region\"  \"Last Update\"    \n",
            "[5] \"Confirmed\"       \"Deaths\"          \"Recovered\"      \n"
          ]
        }
      ]
    },
    {
      "cell_type": "markdown",
      "source": [
        "####Renomeando as colunas"
      ],
      "metadata": {
        "id": "aVUwHPRfI785"
      }
    },
    {
      "cell_type": "code",
      "source": [
        "%%R\n",
        "covid <- covid %>%\n",
        "rename(Data_Observação = ObservationDate, \n",
        "       Provincia_Estado = `Province/State`,\n",
        "       País_Região = `Country/Region`,\n",
        "       Atualização = `Last Update`,\n",
        "       Confirmação = Confirmed,\n",
        "       Mortes = Deaths)"
      ],
      "metadata": {
        "id": "l5mqWUgAFyJK"
      },
      "execution_count": 65,
      "outputs": []
    },
    {
      "cell_type": "code",
      "source": [
        "%%R\n",
        "covid"
      ],
      "metadata": {
        "id": "d_mba22uGkIH"
      },
      "execution_count": null,
      "outputs": []
    },
    {
      "cell_type": "markdown",
      "source": [
        "###Filtros para país, estado e mês"
      ],
      "metadata": {
        "id": "YODd0HfnHlFL"
      }
    },
    {
      "cell_type": "markdown",
      "source": [
        "*Filtro de mortes por covid-19 em Janeiro de 2021*"
      ],
      "metadata": {
        "id": "hSWnvG_iQPj_"
      }
    },
    {
      "cell_type": "code",
      "source": [
        "%%R\n",
        "brasil_sao_paulo_janeiro <- filter(covid, País_Região == 'Brazil' & \n",
        "                 Provincia_Estado == 'Sao Paulo' &\n",
        "                 Data_Observação >= '2021-01-01' &\n",
        "                 Data_Observação <= '2021-01-31'\n",
        "                 )\n",
        "brasil_sao_paulo_janeiro"
      ],
      "metadata": {
        "id": "HNtVIWzwX21z"
      },
      "execution_count": null,
      "outputs": []
    },
    {
      "cell_type": "markdown",
      "source": [
        "*Filtro de mortes por covid-19 em Fevereiro de 2021*"
      ],
      "metadata": {
        "id": "RCOGHpggQk_4"
      }
    },
    {
      "cell_type": "code",
      "source": [
        "%%R\n",
        "brasil_sao_paulo_fevereiro <- filter(covid, País_Região == 'Brazil'& \n",
        "                 Provincia_Estado == 'Sao Paulo' &\n",
        "                  Data_Observação >= '2021-02-01' &\n",
        "                  Data_Observação <= '2021-02-28'\n",
        "                 )\n",
        "brasil_sao_paulo_fevereiro"
      ],
      "metadata": {
        "id": "V2yWYfL1HB96"
      },
      "execution_count": null,
      "outputs": []
    },
    {
      "cell_type": "markdown",
      "source": [
        "*Filtro de mortes por covid-19 em Março de 2021*"
      ],
      "metadata": {
        "id": "waTGStRzQ09P"
      }
    },
    {
      "cell_type": "code",
      "source": [
        "%%R\n",
        "brasil_sao_paulo_marco <- filter(covid, País_Região == 'Brazil'& \n",
        "                 Provincia_Estado == 'Sao Paulo' &\n",
        "                  Data_Observação >= '2021-03-01' &\n",
        "                  Data_Observação <= '2021-03-31'\n",
        "                 )\n",
        "brasil_sao_paulo_marco"
      ],
      "metadata": {
        "id": "J1hSQ0CVR8NJ"
      },
      "execution_count": null,
      "outputs": []
    },
    {
      "cell_type": "markdown",
      "source": [
        "*Filtro de mortes por covid-19 em Abril de 2021*"
      ],
      "metadata": {
        "id": "xAVpfRWNQ22F"
      }
    },
    {
      "cell_type": "code",
      "source": [
        "%%R\n",
        "brasil_sao_paulo_abril <- filter(covid, País_Região == 'Brazil'& \n",
        "                 Provincia_Estado == 'Sao Paulo' &\n",
        "                  Data_Observação >= '2021-04-01' &\n",
        "                  Data_Observação <= '2021-04-30'\n",
        "                 )\n",
        "brasil_sao_paulo_abril"
      ],
      "metadata": {
        "id": "EQvAivxtSMBr"
      },
      "execution_count": null,
      "outputs": []
    },
    {
      "cell_type": "markdown",
      "source": [
        "*Filtro de mortes por covid-19 em Maio de 2021*"
      ],
      "metadata": {
        "id": "Wy71QTFRQ3Qm"
      }
    },
    {
      "cell_type": "code",
      "source": [
        "%%R\n",
        "brasil_sao_paulo_maio <- filter(covid, País_Região == 'Brazil'& \n",
        "                 Provincia_Estado == 'Sao Paulo' &\n",
        "                  Data_Observação >= '2021-05-01' &\n",
        "                  Data_Observação <= '2021-05-31'\n",
        "                 )\n",
        "brasil_sao_paulo_maio"
      ],
      "metadata": {
        "id": "HOuzSxCCSkgL"
      },
      "execution_count": null,
      "outputs": []
    },
    {
      "cell_type": "markdown",
      "source": [
        "*Filtro de mortes por covid-19 em Junho de 2021*"
      ],
      "metadata": {
        "id": "nysEFI9qQ-XF"
      }
    },
    {
      "cell_type": "markdown",
      "source": [
        "*Filtro de mortes por covid-19 em Julho de 2021*"
      ],
      "metadata": {
        "id": "qDMSG5QWQ9wm"
      }
    },
    {
      "cell_type": "markdown",
      "source": [
        "*Filtro de mortes por covid-19 em Agosto de 2021*"
      ],
      "metadata": {
        "id": "80NJNEhuQ8DX"
      }
    },
    {
      "cell_type": "markdown",
      "source": [
        "*Filtro de mortes por covid-19 em Setembro de 2021*"
      ],
      "metadata": {
        "id": "fO2NXBSUQ7yg"
      }
    },
    {
      "cell_type": "markdown",
      "source": [
        "*Filtro de mortes por covid-19 em Outubro de 2021*"
      ],
      "metadata": {
        "id": "3cg0hgXgQ7aD"
      }
    },
    {
      "cell_type": "markdown",
      "source": [
        "*Filtro de mortes por covid-19 em Novembro de 2021*"
      ],
      "metadata": {
        "id": "Rjrbm3R-Q6w5"
      }
    },
    {
      "cell_type": "markdown",
      "source": [
        "*Filtro de mortes por covid-19 em Dezembro de 2021*"
      ],
      "metadata": {
        "id": "1n6gFYAYQ6cI"
      }
    },
    {
      "cell_type": "markdown",
      "source": [
        "*Filtro de mortes por covid-19 em Janeiro de 2022*"
      ],
      "metadata": {
        "id": "K19kZqZBQ5jj"
      }
    },
    {
      "cell_type": "markdown",
      "source": [
        "*Filtro de mortes por covid-19 em Fevereiro de 2022*"
      ],
      "metadata": {
        "id": "py7XwJqkQ6GJ"
      }
    },
    {
      "cell_type": "markdown",
      "source": [
        "##Plot das morte por covid "
      ],
      "metadata": {
        "id": "boPHRuapQGZ1"
      }
    },
    {
      "cell_type": "code",
      "source": [
        "%%R\n",
        "jan <- ggplot(brasil_sao_paulo_janeiro, aes(x = Data_Observação, y = Mortes)) + \n",
        "geom_line() + geom_point() + ggtitle(\"Mortes por covid-19 em Janeiro de 2021\")\n",
        "\n",
        "fev <- ggplot(brasil_sao_paulo_fevereiro, aes(x = Data_Observação, y = Mortes)) + \n",
        "geom_line() + geom_point() + ggtitle(\"Mortes por covid-19 em Fevereiro de 2021\")\n",
        "\n",
        "mar <- ggplot(brasil_sao_paulo_marco, aes(x = Data_Observação, y = Mortes)) + \n",
        "geom_line() + geom_point() + ggtitle(\"Mortes por covid-19 em Março de 2021\")\n",
        "\n",
        "abr <- ggplot(brasil_sao_paulo_abril, aes(x = Data_Observação, y = Mortes)) + \n",
        "geom_line() + geom_point() + ggtitle(\"Mortes por covid-19 em Abril de 2021\")\n",
        "\n",
        "mai <- ggplot(brasil_sao_paulo_maio, aes(x = Data_Observação, y = Mortes)) + \n",
        "geom_line() + geom_point() + ggtitle(\"Mortes por covid-19 em Maio de 2021\")"
      ],
      "metadata": {
        "id": "qLATI_WqZc6b"
      },
      "execution_count": 102,
      "outputs": []
    },
    {
      "cell_type": "code",
      "source": [
        "%%R\n",
        "grid.arrange(jan, fev, mar, abr, mai) "
      ],
      "metadata": {
        "colab": {
          "base_uri": "https://localhost:8080/",
          "height": 497
        },
        "id": "GPGVokLrIcCD",
        "outputId": "dcd03c03-0668-498e-884d-6c32094edb1f"
      },
      "execution_count": 120,
      "outputs": [
        {
          "output_type": "display_data",
          "data": {
            "image/png": "[encoded data removed]"
          },
          "metadata": {}
        }
      ]
    },
    {
      "cell_type": "code",
      "source": [
        "# %%R\n",
        "# ggplot(brasil_sao_paulo_janeiro, aes(x = Data_Observação, y = Mortes)) + \n",
        "# geom_line( color=\"grey\") +\n",
        "# geom_point(shape=21, color=\"black\", fill=\"#69b3a2\", size=6) +\n",
        "# theme_ipsum() +\n",
        "# ggtitle(\"Mortes por covid-19 em Janeiro de 2021\")"
      ],
      "metadata": {
        "id": "Q-QlmXGl_NOX"
      },
      "execution_count": null,
      "outputs": []
    }
  ],
  "metadata": {
    "colab": {
      "collapsed_sections": [],
      "name": "Atividade em RStudio",
      "provenance": [],
      "mount_file_id": "1oXNpl_VU02RMWWj4SsdSElzYz85Q65hN",
      "authorship_tag": "ABX9TyMtpBn55ZBspQyQNvaXtott",
      "include_colab_link": true
    },
    "kernelspec": {
      "display_name": "Python 3",
      "name": "python3"
    },
    "language_info": {
      "name": "python"
    }
  },
  "nbformat": 4,
  "nbformat_minor": 0
}